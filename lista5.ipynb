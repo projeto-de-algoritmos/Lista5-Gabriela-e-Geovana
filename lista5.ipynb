{
 "cells": [
  {
   "cell_type": "code",
   "execution_count": 69,
   "metadata": {},
   "outputs": [],
   "source": [
    "import matplotlib.pyplot as plt\n",
    "import timeit\n",
    "from math import sqrt"
   ]
  },
  {
   "cell_type": "code",
   "execution_count": 70,
   "metadata": {},
   "outputs": [],
   "source": [
    "gap = 2\n",
    "\n",
    "keyboard = {\n",
    "    \"q\" : [0, 0], # first letter on first line\n",
    "    \"w\" : [0, 1], # second letter on first line \n",
    "    \"e\" : [0, 2], # ...\n",
    "    \"r\" : [0, 3],\n",
    "    \"t\" : [0, 4],\n",
    "    \"y\" : [0, 5],\n",
    "    \"u\" : [0, 6],\n",
    "    \"i\" : [0, 7],\n",
    "    \"o\" : [0, 8],\n",
    "    \"p\" : [0, 9],\n",
    "    \"a\" : [1, 0], # first letter on second line\n",
    "    \"s\" : [1, 1], # second letter on second line\n",
    "    \"d\" : [1, 2], # ...\n",
    "    \"f\" : [1, 3],\n",
    "    \"g\" : [1, 4],\n",
    "    \"h\" : [1, 5],\n",
    "    \"j\" : [1, 6],\n",
    "    \"k\" : [1, 7],\n",
    "    \"l\" : [1, 8],\n",
    "    \"z\" : [2, 0], # first letter on third line\n",
    "    \"x\" : [2, 1], # second letter on third line\n",
    "    \"c\" : [2, 2], # ...\n",
    "    \"v\" : [2, 3],\n",
    "    \"b\" : [2, 4],\n",
    "    \"n\" : [2, 5],\n",
    "    \"m\" : [2, 6]\n",
    "}\n",
    "    \n"
   ]
  },
  {
   "cell_type": "code",
   "execution_count": 71,
   "metadata": {},
   "outputs": [],
   "source": [
    "def getMismatch(letterA, letterB):\n",
    "    if letterA == letterB:\n",
    "        return 0\n",
    "    else:\n",
    "        # return euclidian distance between letters on keyboard\n",
    "        p1 = keyboard[letterA]\n",
    "        p2 = keyboard[letterB]\n",
    "        #return sqrt( ((p1[0]-p2[0])**2)+((p1[1]-p2[1])**2) )\n",
    "        return 3"
   ]
  },
  {
   "cell_type": "code",
   "execution_count": 72,
   "metadata": {},
   "outputs": [],
   "source": [
    "def editDistance(str1, str2, m , n): \n",
    "\n",
    "    if m==0: \n",
    "         return n*gap \n",
    "\n",
    "    if n==0: \n",
    "        return m*gap \n",
    "  \n",
    "    return  min(\n",
    "                   gap + editDistance(str1, str2, m, n-1),    \n",
    "                   gap + editDistance(str1, str2, m-1, n),    \n",
    "                   getMismatch(str1[m-1], str2[n-1]) + editDistance(str1, str2, m-1, n-1)   \n",
    "                ) \n"
   ]
  },
  {
   "cell_type": "code",
   "execution_count": 73,
   "metadata": {},
   "outputs": [],
   "source": [
    "def editDistanceDP(str1, str2, m, n): \n",
    "    table = [[0 for j in range(n+1)] for i in range(m+1)] \n",
    "    \n",
    "    for i in range(m+1):\n",
    "        table[i][0] = gap*i\n",
    "    \n",
    "    for j in range(n+1):\n",
    "        table[0][j] = gap*j\n",
    "\n",
    "    for i in range(1,m+1): \n",
    "        for j in range(1,n+1): \n",
    "  \n",
    "            table[i][j] = min(\n",
    "                                gap + table[i][j-1],         \n",
    "                                gap + table[i-1][j],            \n",
    "                                getMismatch(str1[i-1], str2[j-1]) + table[i-1][j-1]   \n",
    "                             )\n",
    "    return table[m][n] \n"
   ]
  },
  {
   "cell_type": "code",
   "execution_count": 74,
   "metadata": {},
   "outputs": [],
   "source": [
    "str11 = \"yes\"\n",
    "str12 = \"yeah\"\n",
    "str21 = \"sunday\"\n",
    "str22 = \"saturday\"\n",
    "str31 = \"technique\" \n",
    "str32 = \"echnequie\"\n",
    "str41 = \"adventurer\" \n",
    "str42 = \"adgenturer\"\n"
   ]
  },
  {
   "cell_type": "code",
   "execution_count": 75,
   "metadata": {},
   "outputs": [],
   "source": [
    "def wrapper(func, *args, **kwargs):\n",
    "    def wrapped():\n",
    "        return func(*args, **kwargs)\n",
    "    return wrapped"
   ]
  },
  {
   "cell_type": "code",
   "execution_count": 76,
   "metadata": {},
   "outputs": [
    {
     "name": "stdout",
     "output_type": "stream",
     "text": [
      "7\n",
      "7\n"
     ]
    }
   ],
   "source": [
    "print(editDistance(str21, str22, len(str21), len(str22)))\n",
    "print(editDistance(str21, str22, len(str21), len(str22)))"
   ]
  },
  {
   "cell_type": "code",
   "execution_count": 77,
   "metadata": {},
   "outputs": [],
   "source": [
    "timeED = []\n",
    "timeEDDP = []\n",
    "timeED.append(0)\n",
    "timeEDDP.append(0)\n",
    "\n",
    "wrapped = wrapper(editDistance, str11, str12, len(str11), len(str12))\n",
    "wrappedDP = wrapper(editDistanceDP, str11, str12, len(str11), len(str12))\n",
    "timeED.append(timeit.timeit(wrapped, number = 10))\n",
    "timeEDDP.append(timeit.timeit(wrappedDP, number = 10)) \n",
    "\n",
    "wrapped = wrapper(editDistance, str21, str22, len(str21), len(str22))\n",
    "wrappedDP = wrapper(editDistanceDP, str21, str22, len(str21), len(str22))\n",
    "timeED.append(timeit.timeit(wrapped, number = 10))\n",
    "timeEDDP.append(timeit.timeit(wrappedDP, number = 10)) \n",
    "\n",
    "wrapped = wrapper(editDistance, str31, str32, len(str31), len(str32))\n",
    "wrappedDP = wrapper(editDistanceDP, str31, str32, len(str31), len(str32))\n",
    "timeED.append(timeit.timeit(wrapped, number = 10))\n",
    "timeEDDP.append(timeit.timeit(wrappedDP, number = 10)) \n",
    "\n",
    "# timeED.append(timeit.timeit(editDistance(str41, str42, len(str41), len(str42))))\n",
    "# timeEDDP.append(timeit.timeit(editDistanceDP(str41, str42, len(str41), len(str42))))"
   ]
  },
  {
   "cell_type": "code",
   "execution_count": 78,
   "metadata": {},
   "outputs": [
    {
     "name": "stdout",
     "output_type": "stream",
     "text": [
      "[0, 0.0011351609973644372, 0.2281144789994869, 8.422396384001331]\n",
      "[0, 0.00022369100042851642, 0.0005197280006541405, 0.000809460998425493]\n"
     ]
    }
   ],
   "source": [
    "print(timeED)\n",
    "print(timeEDDP)"
   ]
  },
  {
   "cell_type": "code",
   "execution_count": 81,
   "metadata": {},
   "outputs": [
    {
     "data": {
      "image/png": "[encoded data removed]",
      "text/plain": [
       "<Figure size 432x288 with 1 Axes>"
      ]
     },
     "metadata": {
      "needs_background": "light"
     },
     "output_type": "display_data"
    }
   ],
   "source": [
    "x = [0, 1, 2, 3]\n",
    "plt.plot(x, timeED, x, timeEDDP)\n",
    "plt.ylabel('Tempo(s)')\n",
    "plt.xlabel('# String')\n",
    "plt.show()"
   ]
  },
  {
   "cell_type": "code",
   "execution_count": null,
   "metadata": {},
   "outputs": [],
   "source": []
  },
  {
   "cell_type": "code",
   "execution_count": null,
   "metadata": {},
   "outputs": [],
   "source": []
  },
  {
   "cell_type": "code",
   "execution_count": null,
   "metadata": {},
   "outputs": [],
   "source": []
  }
 ],
 "metadata": {
  "kernelspec": {
   "display_name": "Python 3",
   "language": "python",
   "name": "python3"
  },
  "language_info": {
   "codemirror_mode": {
    "name": "ipython",
    "version": 3
   },
   "file_extension": ".py",
   "mimetype": "text/x-python",
   "name": "python",
   "nbconvert_exporter": "python",
   "pygments_lexer": "ipython3",
   "version": "3.6.7"
  }
 },
 "nbformat": 4,
 "nbformat_minor": 2
}
