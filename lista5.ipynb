{
 "cells": [
  {
   "cell_type": "code",
   "execution_count": 1,
   "metadata": {},
   "outputs": [],
   "source": [
    "import matplotlib.pyplot as plt\n",
    "import timeit\n",
    "from math import sqrt"
   ]
  },
  {
   "cell_type": "code",
   "execution_count": 2,
   "metadata": {},
   "outputs": [],
   "source": [
    "gap = 2\n",
    "\n",
    "keyboard = {\n",
    "    \"q\" : [0, 0], # first letter on first line\n",
    "    \"w\" : [0, 1], # second letter on first line \n",
    "    \"e\" : [0, 2], # ...\n",
    "    \"r\" : [0, 3],\n",
    "    \"t\" : [0, 4],\n",
    "    \"y\" : [0, 5],\n",
    "    \"u\" : [0, 6],\n",
    "    \"i\" : [0, 7],\n",
    "    \"o\" : [0, 8],\n",
    "    \"p\" : [0, 9],\n",
    "    \"a\" : [1, 0], # first letter on second line\n",
    "    \"s\" : [1, 1], # second letter on second line\n",
    "    \"d\" : [1, 2], # ...\n",
    "    \"f\" : [1, 3],\n",
    "    \"g\" : [1, 4],\n",
    "    \"h\" : [1, 5],\n",
    "    \"j\" : [1, 6],\n",
    "    \"k\" : [1, 7],\n",
    "    \"l\" : [1, 8],\n",
    "    \"z\" : [2, 0], # first letter on third line\n",
    "    \"x\" : [2, 1], # second letter on third line\n",
    "    \"c\" : [2, 2], # ...\n",
    "    \"v\" : [2, 3],\n",
    "    \"b\" : [2, 4],\n",
    "    \"n\" : [2, 5],\n",
    "    \"m\" : [2, 6]\n",
    "}\n",
    "    \n"
   ]
  },
  {
   "cell_type": "code",
   "execution_count": 3,
   "metadata": {},
   "outputs": [],
   "source": [
    "def getMismatch(letterA, letterB):\n",
    "    if letterA == letterB:\n",
    "        return 0\n",
    "    else:\n",
    "        # return euclidian distance between letters on keyboard\n",
    "        p1 = keyboard[letterA]\n",
    "        p2 = keyboard[letterB]\n",
    "        return sqrt( ((p1[0]-p2[0])**2)+((p1[1]-p2[1])**2) )"
   ]
  },
  {
   "cell_type": "code",
   "execution_count": 4,
   "metadata": {},
   "outputs": [],
   "source": [
    "def editDistance(str1, str2, m , n): \n",
    "\n",
    "    if m==0: \n",
    "         return n*gap \n",
    "\n",
    "    if n==0: \n",
    "        return m*gap \n",
    "  \n",
    "    return  min(\n",
    "                   gap + editDistance(str1, str2, m, n-1),    \n",
    "                   gap + editDistance(str1, str2, m-1, n),    \n",
    "                   getMismatch(str1[m-1], str2[n-1]) + editDistance(str1, str2, m-1, n-1)   \n",
    "                ) \n"
   ]
  },
  {
   "cell_type": "code",
   "execution_count": 5,
   "metadata": {},
   "outputs": [],
   "source": [
    "def editDistanceDP(str1, str2, m, n): \n",
    "    table = [[0 for j in range(n+1)] for i in range(m+1)] \n",
    "    \n",
    "    for i in range(m+1):\n",
    "        table[i][0] = gap*i\n",
    "    \n",
    "    for j in range(n+1):\n",
    "        table[0][j] = gap*j\n",
    "\n",
    "    for i in range(1,m+1): \n",
    "        for j in range(1,n+1): \n",
    "  \n",
    "            table[i][j] = min(\n",
    "                                gap + table[i][j-1],         \n",
    "                                gap + table[i-1][j],            \n",
    "                                getMismatch(str1[i-1], str2[j-1]) + table[i-1][j-1]   \n",
    "                             )\n",
    "    return table[m][n] \n"
   ]
  },
  {
   "cell_type": "code",
   "execution_count": 6,
   "metadata": {},
   "outputs": [],
   "source": [
    "str11 = \"hy\"\n",
    "str12 = \"ho\"\n",
    "str21 = \"yes\"\n",
    "str22 = \"yeh\"\n",
    "str31 = \"monday\" \n",
    "str32 = \"sunday\"\n",
    "str41 = \"teacher\" \n",
    "str42 = \"tiachir\"\n",
    "str51 = \"thursday\"\n",
    "str52 = \"tuesday\"\n"
   ]
  },
  {
   "cell_type": "code",
   "execution_count": 7,
   "metadata": {},
   "outputs": [],
   "source": [
    "def wrapper(func, *args, **kwargs):\n",
    "    def wrapped():\n",
    "        return func(*args, **kwargs)\n",
    "    return wrapped"
   ]
  },
  {
   "cell_type": "code",
   "execution_count": 8,
   "metadata": {},
   "outputs": [],
   "source": [
    "timeED = []\n",
    "timeEDDP = []\n",
    "timeED.append(0)\n",
    "timeEDDP.append(0)\n",
    "\n",
    "wrapped = wrapper(editDistance, str11, str12, len(str11), len(str12))\n",
    "wrappedDP = wrapper(editDistanceDP, str11, str12, len(str11), len(str12))\n",
    "timeED.append(timeit.timeit(wrapped, number = 10))\n",
    "timeEDDP.append(timeit.timeit(wrappedDP, number = 10)) \n",
    "\n",
    "wrapped = wrapper(editDistance, str21, str22, len(str21), len(str22))\n",
    "wrappedDP = wrapper(editDistanceDP, str21, str22, len(str21), len(str22))\n",
    "timeED.append(timeit.timeit(wrapped, number = 10))\n",
    "timeEDDP.append(timeit.timeit(wrappedDP, number = 10)) \n",
    "\n",
    "wrapped = wrapper(editDistance, str31, str32, len(str31), len(str32))\n",
    "wrappedDP = wrapper(editDistanceDP, str31, str32, len(str31), len(str32))\n",
    "timeED.append(timeit.timeit(wrapped, number = 10))\n",
    "timeEDDP.append(timeit.timeit(wrappedDP, number = 10)) \n",
    "\n",
    "wrapped = wrapper(editDistance, str41, str42, len(str41), len(str42))\n",
    "wrappedDP = wrapper(editDistanceDP, str41, str42, len(str41), len(str42))\n",
    "timeED.append(timeit.timeit(wrapped, number = 10))\n",
    "timeEDDP.append(timeit.timeit(wrappedDP, number = 10)) \n",
    "\n",
    "wrapped = wrapper(editDistance, str51, str52, len(str51), len(str52))\n",
    "wrappedDP = wrapper(editDistanceDP, str51, str52, len(str51), len(str52))\n",
    "timeED.append(timeit.timeit(wrapped, number = 10))\n",
    "timeEDDP.append(timeit.timeit(wrappedDP, number = 10)) \n"
   ]
  },
  {
   "cell_type": "code",
   "execution_count": 9,
   "metadata": {},
   "outputs": [
    {
     "name": "stdout",
     "output_type": "stream",
     "text": [
      "[0, 9.564099946146598e-05, 0.0003468310005700914, 0.06413190700004634, 0.2742997599998489, 0.6021968779996314]\n",
      "[0, 9.237099948222749e-05, 0.00015570300001854775, 0.0005065739997007768, 0.0007157049994930276, 0.0007625850003023515]\n"
     ]
    }
   ],
   "source": [
    "print(timeED)\n",
    "print(timeEDDP)"
   ]
  },
  {
   "cell_type": "code",
   "execution_count": 10,
   "metadata": {},
   "outputs": [
    {
     "data": {
      "image/png": "[encoded data removed]",
      "text/plain": [
       "<Figure size 432x288 with 1 Axes>"
      ]
     },
     "metadata": {
      "needs_background": "light"
     },
     "output_type": "display_data"
    }
   ],
   "source": [
    "x = [0, 1, 2, 3, 4, 5]\n",
    "plt.plot(x, timeED, x, timeEDDP)\n",
    "plt.ylabel('Tempo(s)')\n",
    "plt.xlabel('# String')\n",
    "plt.show()"
   ]
  }
 ],
 "metadata": {
  "kernelspec": {
   "display_name": "Python 3",
   "language": "python",
   "name": "python3"
  },
  "language_info": {
   "codemirror_mode": {
    "name": "ipython",
    "version": 3
   },
   "file_extension": ".py",
   "mimetype": "text/x-python",
   "name": "python",
   "nbconvert_exporter": "python",
   "pygments_lexer": "ipython3",
   "version": "3.5.2"
  }
 },
 "nbformat": 4,
 "nbformat_minor": 2
}
