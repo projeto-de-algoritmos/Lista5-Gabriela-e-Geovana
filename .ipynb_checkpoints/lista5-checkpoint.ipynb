{
 "cells": [
  {
   "cell_type": "code",
   "execution_count": 1,
   "metadata": {},
   "outputs": [],
   "source": [
    "gap = 2\n",
    "mismatch = 3"
   ]
  },
  {
   "cell_type": "code",
   "execution_count": 2,
   "metadata": {},
   "outputs": [],
   "source": [
    "def editDistance(str1, str2, m , n): \n",
    "\n",
    "    if m==0: \n",
    "         return n*gap \n",
    "\n",
    "    if n==0: \n",
    "        return m*gap \n",
    "  \n",
    "    return  min(\n",
    "                   gap + editDistance(str1, str2, m, n-1),    \n",
    "                   gap + editDistance(str1, str2, m-1, n),    \n",
    "                   mismatch + editDistance(str1, str2, m-1, n-1)   \n",
    "                ) \n"
   ]
  },
  {
   "cell_type": "code",
   "execution_count": 3,
   "metadata": {},
   "outputs": [],
   "source": [
    "def editDistanceDP(str1, str2, m, n): \n",
    "    table = [[0 for j in range(n+1)] for i in range(m+1)] \n",
    "    \n",
    "    for i in range(m+1):\n",
    "        table[i][0] = gap*i\n",
    "    \n",
    "    for j in range(n+1):\n",
    "        table[0][j] = gap*j\n",
    "\n",
    "    for i in range(1,m+1): \n",
    "        for j in range(1,n+1): \n",
    "  \n",
    "            table[i][j] = min(\n",
    "                                gap + table[i][j-1],         \n",
    "                                gap + table[i-1][j],            \n",
    "                                mismatch + table[i-1][j-1]   \n",
    "                             )\n",
    "    return table[m][n] \n"
   ]
  },
  {
   "cell_type": "code",
   "execution_count": 4,
   "metadata": {},
   "outputs": [
    {
     "name": "stdout",
     "output_type": "stream",
     "text": [
      "37.3 µs ± 574 ns per loop (mean ± std. dev. of 7 runs, 10000 loops each)\n",
      "9.55 µs ± 202 ns per loop (mean ± std. dev. of 7 runs, 100000 loops each)\n",
      "11.8 ms ± 505 µs per loop (mean ± std. dev. of 7 runs, 100 loops each)\n",
      "28.5 µs ± 2.96 µs per loop (mean ± std. dev. of 7 runs, 10000 loops each)\n",
      "457 ms ± 25.9 ms per loop (mean ± std. dev. of 7 runs, 1 loop each)\n",
      "43.2 µs ± 968 ns per loop (mean ± std. dev. of 7 runs, 10000 loops each)\n",
      "2.47 s ± 170 ms per loop (mean ± std. dev. of 7 runs, 1 loop each)\n",
      "52.8 µs ± 1.01 µs per loop (mean ± std. dev. of 7 runs, 10000 loops each)\n"
     ]
    }
   ],
   "source": [
    "\n",
    "str11 = \"yes\"\n",
    "str12 = \"yeah\"\n",
    "str21 = \"sunday\"\n",
    "str22 = \"saturday\"\n",
    "str31 = \"technique\" \n",
    "str32 = \"echnequie\"\n",
    "str41 = \"adventurer\" \n",
    "str42 = \"adgenturir\"\n",
    "\n",
    "%timeit (editDistance(str11, str12, len(str11), len(str12)))\n",
    "%timeit (editDistanceDP(str11, str12, len(str11), len(str12))) \n",
    "%timeit (editDistance(str21, str22, len(str21), len(str22)))\n",
    "%timeit (editDistanceDP(str21, str22, len(str21), len(str22))) \n",
    "%timeit (editDistance(str31, str32, len(str31), len(str32)))\n",
    "%timeit (editDistanceDP(str31, str32, len(str31), len(str32))) \n",
    "%timeit (editDistance(str41, str42, len(str41), len(str42)))\n",
    "%timeit (editDistanceDP(str41, str42, len(str41), len(str42))) \n"
   ]
  }
 ],
 "metadata": {
  "kernelspec": {
   "display_name": "Python 3",
   "language": "python",
   "name": "python3"
  },
  "language_info": {
   "codemirror_mode": {
    "name": "ipython",
    "version": 3
   },
   "file_extension": ".py",
   "mimetype": "text/x-python",
   "name": "python",
   "nbconvert_exporter": "python",
   "pygments_lexer": "ipython3",
   "version": "3.6.7"
  }
 },
 "nbformat": 4,
 "nbformat_minor": 2
}
